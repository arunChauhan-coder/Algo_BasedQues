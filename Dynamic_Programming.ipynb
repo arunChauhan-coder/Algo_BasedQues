{
 "cells": [
  {
   "cell_type": "code",
   "execution_count": 68,
   "id": "548dce51",
   "metadata": {},
   "outputs": [],
   "source": [
    "def knapsack(Capacity,weights,profits,n):\n",
    "    \n",
    "    if(n==0 or Capacity==0):\n",
    "        return 0\n",
    "    \n",
    "    if weights[n-1]>Capacity:\n",
    "        return knapsack(Capacity,weights,profits,n-1)\n",
    "    \n",
    "    else:\n",
    "        return max(profits[n-1]+knapsack(Capacity-weights[n-1],weights,profits,n-1),\n",
    "                knapsack(Capacity,weights,profits,n-1))\n",
    "        "
   ]
  },
  {
   "cell_type": "code",
   "execution_count": 73,
   "id": "a2920842",
   "metadata": {},
   "outputs": [
    {
     "data": {
      "text/plain": [
       "47"
      ]
     },
     "execution_count": 73,
     "metadata": {},
     "output_type": "execute_result"
    }
   ],
   "source": [
    "knapsack(15,[4,5,2,7,1,3,8],[7,8,9,10,11,12,1],7)"
   ]
  },
  {
   "cell_type": "code",
   "execution_count": null,
   "id": "c8e5072a",
   "metadata": {},
   "outputs": [],
   "source": []
  }
 ],
 "metadata": {
  "kernelspec": {
   "display_name": "Python 3 (ipykernel)",
   "language": "python",
   "name": "python3"
  },
  "language_info": {
   "codemirror_mode": {
    "name": "ipython",
    "version": 3
   },
   "file_extension": ".py",
   "mimetype": "text/x-python",
   "name": "python",
   "nbconvert_exporter": "python",
   "pygments_lexer": "ipython3",
   "version": "3.11.3"
  }
 },
 "nbformat": 4,
 "nbformat_minor": 5
}
