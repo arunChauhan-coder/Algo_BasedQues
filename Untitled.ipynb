{
 "cells": [
  {
   "cell_type": "markdown",
   "id": "9455d2ac",
   "metadata": {},
   "source": [
    "## Merge Sort"
   ]
  },
  {
   "cell_type": "code",
   "execution_count": 23,
   "id": "3803ce0b",
   "metadata": {},
   "outputs": [],
   "source": [
    "def merge(left,right):\n",
    "    lst = []\n",
    "    i=0 \n",
    "    j=0\n",
    "    \n",
    "    while (i<len(left)) and (j<len(right)):\n",
    "        \n",
    "        if left[i] < right[j]:\n",
    "            lst.append(left[i])\n",
    "            i+=1\n",
    "        else:\n",
    "            lst.append(right[j])\n",
    "            j+=1\n",
    "            \n",
    "    while i < len(left):\n",
    "        lst.append(left[i])\n",
    "        i+=1\n",
    "    \n",
    "    while j<len(right):\n",
    "        lst.append(right[j])\n",
    "        j+=1\n",
    "    return lst\n",
    "        "
   ]
  },
  {
   "cell_type": "code",
   "execution_count": 24,
   "id": "937a4646",
   "metadata": {},
   "outputs": [],
   "source": [
    "def merge_sort(lst):\n",
    "    \n",
    "    if len(lst)==1:\n",
    "        return lst\n",
    "    \n",
    "    mid= len(lst)//2\n",
    "    left = merge_sort(lst[:mid])\n",
    "    right = merge_sort(lst[mid:])\n",
    "    return merge(left,right)\n",
    "    "
   ]
  },
  {
   "cell_type": "code",
   "execution_count": 25,
   "id": "f0b14d01",
   "metadata": {},
   "outputs": [
    {
     "data": {
      "text/plain": [
       "[3, 9, 10, 27, 38, 43, 82]"
      ]
     },
     "execution_count": 25,
     "metadata": {},
     "output_type": "execute_result"
    }
   ],
   "source": [
    "merge_sort([38,27,43,3,9,82,10])"
   ]
  },
  {
   "cell_type": "code",
   "execution_count": null,
   "id": "d2c66258",
   "metadata": {},
   "outputs": [],
   "source": []
  },
  {
   "cell_type": "markdown",
   "id": "4a20de96",
   "metadata": {},
   "source": [
    "You are given two integer arrays nums1 and nums2, sorted in non-decreasing order, and two integers m and n, representing the number of elements in nums1 and nums2 respectively.\n",
    "\n",
    "Merge nums1 and nums2 into a single array sorted in non-decreasing order.\n",
    "\n",
    "The final sorted array should not be returned by the function, but instead be stored inside the array nums1. To accommodate this, nums1 has a length of m + n, where the first m elements denote the elements that should be merged, and the last n elements are set to 0 and should be ignored. nums2 has a length of n.\n",
    "\n",
    " "
   ]
  },
  {
   "cell_type": "code",
   "execution_count": 30,
   "id": "b1009fc4",
   "metadata": {},
   "outputs": [],
   "source": [
    "\n",
    "def merge(nums1, m, nums2, n):\n",
    "\n",
    "    i = m-1\n",
    "    j= n-1\n",
    "    k= m+n-1\n",
    "\n",
    "    while i>=0 and j >=0 :\n",
    "        if nums1[i]>nums2[j]:\n",
    "            nums1[k] = nums1[i]\n",
    "            i -=1\n",
    "        else:\n",
    "            nums1[k] = nums2[j]\n",
    "            j-=1\n",
    "        k-=1\n",
    "\n",
    "    while i!=-1:\n",
    "        nums1[k]= nums1[i]\n",
    "        k-=1\n",
    "        i-=1\n",
    "\n",
    "    while j!=-1:\n",
    "        nums1[k]= nums2[j]\n",
    "        k-=1\n",
    "        j-=1"
   ]
  },
  {
   "cell_type": "code",
   "execution_count": 31,
   "id": "ce87a728",
   "metadata": {},
   "outputs": [],
   "source": [
    "merge([1,2,3,0,0,0], 3, [2,5,6], 3)"
   ]
  },
  {
   "cell_type": "code",
   "execution_count": null,
   "id": "5c43c597",
   "metadata": {},
   "outputs": [],
   "source": []
  },
  {
   "cell_type": "markdown",
   "id": "309f2a53",
   "metadata": {},
   "source": [
    "print1 to n using recurssion"
   ]
  },
  {
   "cell_type": "code",
   "execution_count": 50,
   "id": "9d130476",
   "metadata": {},
   "outputs": [],
   "source": [
    "def p(n):\n",
    "\n",
    "    if n==0:\n",
    "        return\n",
    "    p(n-1)\n",
    "    print(n)\n",
    "    \n",
    "    \n",
    "    \n",
    "    "
   ]
  },
  {
   "cell_type": "code",
   "execution_count": 51,
   "id": "2007e36d",
   "metadata": {},
   "outputs": [
    {
     "name": "stdout",
     "output_type": "stream",
     "text": [
      "1\n",
      "2\n",
      "3\n"
     ]
    }
   ],
   "source": [
    "p(3)"
   ]
  },
  {
   "cell_type": "markdown",
   "id": "8abff650",
   "metadata": {},
   "source": [
    "print n to 1 using recurssion"
   ]
  },
  {
   "cell_type": "code",
   "execution_count": 52,
   "id": "90883218",
   "metadata": {},
   "outputs": [],
   "source": [
    "def printN(n):\n",
    "    \n",
    "    if n==0:\n",
    "        return\n",
    "    \n",
    "    print(n)\n",
    "    printN(n-1)"
   ]
  },
  {
   "cell_type": "code",
   "execution_count": 53,
   "id": "40a91c85",
   "metadata": {},
   "outputs": [
    {
     "name": "stdout",
     "output_type": "stream",
     "text": [
      "5\n",
      "4\n",
      "3\n",
      "2\n",
      "1\n"
     ]
    }
   ],
   "source": [
    "printN(5)"
   ]
  },
  {
   "cell_type": "markdown",
   "id": "05103e5b",
   "metadata": {},
   "source": [
    "sum of 1st n natural number"
   ]
  },
  {
   "cell_type": "code",
   "execution_count": 56,
   "id": "ef3988aa",
   "metadata": {},
   "outputs": [],
   "source": [
    "def sumN(n):\n",
    "    \n",
    "    if n==1:\n",
    "        return n\n",
    "    \n",
    "    return n+sumN(n-1)"
   ]
  },
  {
   "cell_type": "code",
   "execution_count": 57,
   "id": "f3daf6d7",
   "metadata": {},
   "outputs": [
    {
     "data": {
      "text/plain": [
       "15"
      ]
     },
     "execution_count": 57,
     "metadata": {},
     "output_type": "execute_result"
    }
   ],
   "source": [
    "sumN(5)"
   ]
  },
  {
   "cell_type": "code",
   "execution_count": 60,
   "id": "f6ab361d",
   "metadata": {},
   "outputs": [],
   "source": [
    "def fact(n):\n",
    "    \n",
    "    if n==1:\n",
    "        return 1\n",
    "    \n",
    "    return n*fact(n-1)"
   ]
  },
  {
   "cell_type": "code",
   "execution_count": 61,
   "id": "9bbc6d46",
   "metadata": {},
   "outputs": [
    {
     "data": {
      "text/plain": [
       "120"
      ]
     },
     "execution_count": 61,
     "metadata": {},
     "output_type": "execute_result"
    }
   ],
   "source": [
    "fact(5)"
   ]
  },
  {
   "cell_type": "markdown",
   "id": "c237f176",
   "metadata": {},
   "source": [
    "### Reverse an array"
   ]
  },
  {
   "cell_type": "code",
   "execution_count": 78,
   "id": "a3b8c697",
   "metadata": {},
   "outputs": [],
   "source": [
    "def rev(lst,start,end):\n",
    "    \n",
    "    if start>= end:\n",
    "        return\n",
    "    \n",
    "    lst[start],lst[end] = lst[end],lst[start]\n",
    "    \n",
    "    rev(lst,start+1,end-1)\n",
    "    \n",
    "    return lst"
   ]
  },
  {
   "cell_type": "code",
   "execution_count": 79,
   "id": "b106a11b",
   "metadata": {},
   "outputs": [
    {
     "data": {
      "text/plain": [
       "[4, 3, 2, 1]"
      ]
     },
     "execution_count": 79,
     "metadata": {},
     "output_type": "execute_result"
    }
   ],
   "source": [
    "rev([1,2,3,4],0,3)"
   ]
  },
  {
   "cell_type": "markdown",
   "id": "f0c8b422",
   "metadata": {},
   "source": [
    "### String plaindrome or not"
   ]
  },
  {
   "cell_type": "code",
   "execution_count": 91,
   "id": "48c1307b",
   "metadata": {},
   "outputs": [],
   "source": [
    "def pal(st,start,end):\n",
    "    \n",
    "    if start>= end:\n",
    "        return True\n",
    "    \n",
    "    if st[start]!= st[end]:\n",
    "        return False\n",
    "    \n",
    "    return pal(st,start+1,end-1)\n",
    "    \n",
    "   "
   ]
  },
  {
   "cell_type": "code",
   "execution_count": 93,
   "id": "d57b5e91",
   "metadata": {},
   "outputs": [
    {
     "data": {
      "text/plain": [
       "True"
      ]
     },
     "execution_count": 93,
     "metadata": {},
     "output_type": "execute_result"
    }
   ],
   "source": [
    "pal('radar',0,4)"
   ]
  },
  {
   "cell_type": "code",
   "execution_count": null,
   "id": "7a5e8d78",
   "metadata": {},
   "outputs": [],
   "source": [
    "def fib()"
   ]
  }
 ],
 "metadata": {
  "kernelspec": {
   "display_name": "Python 3 (ipykernel)",
   "language": "python",
   "name": "python3"
  },
  "language_info": {
   "codemirror_mode": {
    "name": "ipython",
    "version": 3
   },
   "file_extension": ".py",
   "mimetype": "text/x-python",
   "name": "python",
   "nbconvert_exporter": "python",
   "pygments_lexer": "ipython3",
   "version": "3.11.3"
  }
 },
 "nbformat": 4,
 "nbformat_minor": 5
}
